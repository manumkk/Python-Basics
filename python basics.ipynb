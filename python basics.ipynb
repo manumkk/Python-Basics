{
 "cells": [
  {
   "cell_type": "markdown",
   "metadata": {},
   "source": [
    "\n",
    "# Homework "
   ]
  },
  {
   "cell_type": "code",
   "execution_count": 1,
   "metadata": {},
   "outputs": [
    {
     "name": "stdout",
     "output_type": "stream",
     "text": [
      "principal Amt65\n",
      "time45\n",
      "rate of interest 2\n",
      "simple interest 58.5\n"
     ]
    }
   ],
   "source": [
    "\n",
    "\n",
    "p = int(input(\"principal Amt\"))\n",
    "t = int(input(\"time\"))\n",
    "r = float(input(\"rate of interest \"))\n",
    "s = p*t*r/100\n",
    "print(\"simple interest\",s)"
   ]
  },
  {
   "cell_type": "code",
   "execution_count": 2,
   "metadata": {},
   "outputs": [
    {
     "name": "stdout",
     "output_type": "stream",
     "text": [
      "This sentence is output to the screen\n",
      "a= 5\n",
      "x= 1 2 3 4\n",
      "value of x is 5 and y is 10\n",
      "I love ducati and M V Augusta\n",
      "I love M V Augusta and ducati\n"
     ]
    }
   ],
   "source": [
    "print('This sentence is output to the screen')\n",
    "a=5\n",
    "print(\"a=\",a)\n",
    "print('x=',1,2,3,4)\n",
    "x = 5\n",
    "y = 10\n",
    "print('value of x is {} and y is {}'.format(x,y))\n",
    "print('I love {0} and {1}'.format('ducati','M V Augusta'))\n",
    "print('I love {1} and {0}'.format('ducati','M V Augusta'))"
   ]
  },
  {
   "cell_type": "code",
   "execution_count": 6,
   "metadata": {},
   "outputs": [
    {
     "name": "stdout",
     "output_type": "stream",
     "text": [
      "Hello alexa, hows the weather today ?\n"
     ]
    }
   ],
   "source": [
    "print('Hello {name}, {greeting}'.format(greeting = 'hows the weather today ?',name = 'alexa'))"
   ]
  },
  {
   "cell_type": "code",
   "execution_count": 8,
   "metadata": {},
   "outputs": [
    {
     "name": "stdout",
     "output_type": "stream",
     "text": [
      "value of x  12.35\n",
      "value of x  12.3457\n"
     ]
    }
   ],
   "source": [
    "x = 12.3456789\n",
    "print('value of x  %3.2f' %x)\n",
    "print('value of x  %3.4f' %x)"
   ]
  },
  {
   "cell_type": "code",
   "execution_count": 9,
   "metadata": {},
   "outputs": [
    {
     "name": "stdout",
     "output_type": "stream",
     "text": [
      " 1   1    1\n",
      " 2   4    8\n",
      " 3   9   27\n",
      " 4  16   64\n",
      " 5  25  125\n",
      " 6  36  216\n",
      " 7  49  343\n",
      " 8  64  512\n",
      " 9  81  729\n",
      "10 100 1000\n"
     ]
    }
   ],
   "source": [
    "for x in range(1, 11):\n",
    "     print('{0:2d} {1:3d} {2:4d}'.format(x, x*x, x*x*x))"
   ]
  },
  {
   "cell_type": "code",
   "execution_count": 16,
   "metadata": {},
   "outputs": [
    {
     "name": "stdout",
     "output_type": "stream",
     "text": [
      "Raju       ==> 9480123526\n",
      "Ravi       ==> 9480123527\n",
      "Rahul      ==> 9480123528\n"
     ]
    },
    {
     "data": {
      "text/plain": [
       "dict_items([('Raju', 9480123526), ('Ravi', 9480123527), ('Rahul', 9480123528)])"
      ]
     },
     "execution_count": 16,
     "metadata": {},
     "output_type": "execute_result"
    }
   ],
   "source": [
    "dd = {'Raju': 9480123526, 'Ravi': 9480123527, 'Rahul': 9480123528}\n",
    "for name, phone in dd.items():\n",
    "     print('{0:10} ==> {1:10d}'.format(name, phone))\n",
    "dd.items()"
   ]
  },
  {
   "cell_type": "code",
   "execution_count": 21,
   "metadata": {},
   "outputs": [
    {
     "name": "stdout",
     "output_type": "stream",
     "text": [
      "value of PI is approximately 3.1415926536\n"
     ]
    }
   ],
   "source": [
    "import math\n",
    "print('value of PI is approximately %1.10f' %math.pi)"
   ]
  },
  {
   "cell_type": "code",
   "execution_count": 23,
   "metadata": {},
   "outputs": [
    {
     "name": "stdout",
     "output_type": "stream",
     "text": [
      "Enter a string: plot\n",
      "The entered string is :plot\n",
      "Enter a integer: 56\n",
      "The entered integer is : 56\n",
      "Enter a floating point number:4.5\n",
      "The entered real number  is : 4.5\n"
     ]
    }
   ],
   "source": [
    "x = input('Enter a string: ')\n",
    "print(\"The entered string is :{0}\".format(x))\n",
    "y = int(input('Enter a integer: '))\n",
    "print(\"The entered integer is :\",y)\n",
    "z = float(input('Enter a floating point number:'))\n",
    "print(\"The entered real number  is :\",z)"
   ]
  },
  {
   "cell_type": "code",
   "execution_count": 1,
   "metadata": {},
   "outputs": [
    {
     "name": "stdout",
     "output_type": "stream",
     "text": [
      "x has value of 1234\n",
      "y has value of 121112\n",
      "['Monday', 'Tuesday', 'Wednesday', 'Thursday', 'Friday']\n",
      "{'one': 'Monday'}\n"
     ]
    }
   ],
   "source": [
    "x = ('1' + '2' +'3' + '4')\n",
    "\n",
    "y = '1' + '2' + '11' + '12'\n",
    "weekdays = ['Monday', 'Tuesday', 'Wednesday','Thursday', 'Friday']\n",
    "weekday = {'one':'Monday'}\n",
    "print ('x has value of', x)\n",
    "print ('y has value of', y)\n",
    "print(weekdays)\n",
    "print(weekday)"
   ]
  },
  {
   "cell_type": "code",
   "execution_count": 2,
   "metadata": {},
   "outputs": [
    {
     "name": "stdout",
     "output_type": "stream",
     "text": [
      "Hello\n"
     ]
    }
   ],
   "source": [
    "import os\n",
    "x = 'Hello'\n",
    "print(x)"
   ]
  },
  {
   "cell_type": "code",
   "execution_count": 4,
   "metadata": {},
   "outputs": [
    {
     "name": "stdout",
     "output_type": "stream",
     "text": [
      "-1\n",
      "value is negative\n",
      " value is negative\n"
     ]
    }
   ],
   "source": [
    "var = -1\n",
    "if var < 0:\n",
    "    print(var)\n",
    "    print(\"value is negative\")\n",
    "\n",
    "if ( var == -1 ) : \n",
    "    print(\" value is negative\")"
   ]
  },
  {
   "cell_type": "code",
   "execution_count": 5,
   "metadata": {},
   "outputs": [
    {
     "name": "stdout",
     "output_type": "stream",
     "text": [
      "value is positive\n",
      "1\n"
     ]
    }
   ],
   "source": [
    "var = 1\n",
    "if var < 0:\n",
    "    print(\"value is negative\")\n",
    "    print(var)\n",
    "else:\n",
    "    print(\"value is positive\")\n",
    "    print(var)"
   ]
  },
  {
   "cell_type": "code",
   "execution_count": 7,
   "metadata": {},
   "outputs": [
    {
     "name": "stdout",
     "output_type": "stream",
     "text": [
      "B\n"
     ]
    }
   ],
   "source": [
    "score = 85\n",
    "if score >= 99:\n",
    "    print('A')\n",
    "elif score >=75:\n",
    "    print('B')\n",
    "elif score >= 60:\n",
    "    print('C')\n",
    "elif score >= 35:\n",
    "    print('D')\n",
    "else:\n",
    "    print('F')"
   ]
  },
  {
   "cell_type": "code",
   "execution_count": 8,
   "metadata": {},
   "outputs": [
    {
     "name": "stdout",
     "output_type": "stream",
     "text": [
      " c =  0\n",
      " c =  1\n",
      " c =  2\n"
     ]
    }
   ],
   "source": [
    "c = 0\n",
    "while (c <3):\n",
    "    print(' c = ', c)\n",
    "    c = c + 1"
   ]
  },
  {
   "cell_type": "code",
   "execution_count": 12,
   "metadata": {},
   "outputs": [
    {
     "name": "stdout",
     "output_type": "stream",
     "text": [
      "l1[0]:  ethicalhacking\n",
      "l2[1:5]:  ['b', 'c', 2, 3]\n"
     ]
    }
   ],
   "source": [
    "l1 = ['ethicalhacking', 'Programming', 2019, 2020, 2021]\n",
    "l2 = ['a', 'b', 'c', 2, 3, 4, 5, 6, 7 ]\n",
    "\n",
    "print(\"l1[0]: \", l1[0])\n",
    "print(\"l2[1:5]: \", l2[1:5])"
   ]
  },
  {
   "cell_type": "code",
   "execution_count": 13,
   "metadata": {},
   "outputs": [
    {
     "name": "stdout",
     "output_type": "stream",
     "text": [
      "l1 values  ['ethicalhacking', 'Programming', 2019, 2020, 2021]\n",
      "updated l1 values   ['ethicalhacking', 'Programming', 2019, 2020, 2021, 2022]\n"
     ]
    }
   ],
   "source": [
    "print(\"l1 values \", l1)\n",
    "l1.append(2022)\n",
    "print(\"updated l1 values  \", l1)"
   ]
  },
  {
   "cell_type": "code",
   "execution_count": 15,
   "metadata": {},
   "outputs": [
    {
     "name": "stdout",
     "output_type": "stream",
     "text": [
      "Values of l1  ['ethicalhacking', 'Programming', 2015, 2020, 2021, 2022]\n",
      "Index 2 value  2015\n",
      "Index 2's new value   2015\n",
      "['ethicalhacking', 'Programming', 2015, 2020, 2021, 2022]\n"
     ]
    }
   ],
   "source": [
    "print(\"Values of l1 \", l1)\n",
    "\n",
    "print(\"Index 2 value \", l1[2])\n",
    "l1[2] = 2015;\n",
    "print(\"Index 2's new value  \", l1[2])\n",
    "print(l1)"
   ]
  },
  {
   "cell_type": "code",
   "execution_count": 36,
   "metadata": {},
   "outputs": [
    {
     "name": "stdout",
     "output_type": "stream",
     "text": [
      "l1 values:  ['ethicalhacking', 'Programming', 2015, 2019, 2020, 2021, 2022]\n",
      "After deleting value at index 2  2019\n",
      "['ethicalhacking', 'Programming', 2019, 2020, 2021, 2022]\n"
     ]
    }
   ],
   "source": [
    "print(\"l1 values: \", l1)\n",
    "\n",
    "del l1[2]\n",
    "print(\"After deleting value at index 2 \" ,l1[2])\n",
    "\n",
    "print(l1)"
   ]
  },
  {
   "cell_type": "code",
   "execution_count": 38,
   "metadata": {},
   "outputs": [
    {
     "name": "stdout",
     "output_type": "stream",
     "text": [
      "Length:  6\n",
      "Concatenation:  [1, 2, 3, 4, 5, 6]\n",
      "Repetition : ['Hello', 'Hello', 'Hello', 'Hello']\n",
      "Membership : True\n",
      "Iteration :\n",
      "1\n",
      "2\n",
      "3\n",
      "slicing : 2021\n",
      "slicing range:  ['Programming', 2019, 2020, 2021, 2022]\n",
      "Max of list:  5\n",
      "Min of list:  1\n",
      "Count number of 1 in list:  2\n",
      "Extended : ['ethicalhacking', 'Programming', 2019, 2020, 2021, 2022, 'a', 'b', 'c', 2, 3, 4, 5, 6, 7]\n",
      "Index for Programming: 1\n",
      "['ethicalhacking', 'Programming', 2019, 2020, 2021, 2022, 'a', 'b', 'c', 2, 3, 4, 5, 6, 7]\n",
      "pop last item in list:  7\n",
      "pop the item with index 2:  2019\n",
      "removed b from list:  ['ethicalhacking', 'Programming', 2020, 2021, 2022, 'a', 'c', 2, 3, 4, 5, 6]\n",
      "Reverse:  [6, 5, 4, 3, 2, 'c', 'a', 2022, 2021, 2020, 'Programming', 'ethicalhacking']\n",
      "Sort ascending:  ['a', 'b', 'c']\n",
      "Sort descending:  ['c', 'b', 'a']\n"
     ]
    }
   ],
   "source": [
    "import string\n",
    "import operator\n",
    "\n",
    "print(\"Length: \", len(l1))\n",
    "\n",
    "print(\"Concatenation: \", [1,2,3] + [4, 5, 6])\n",
    "\n",
    "print(\"Repetition :\", ['Hello'] * 4)\n",
    "\n",
    "print(\"Membership :\", 3 in [1,2,3])\n",
    "\n",
    "print(\"Iteration :\")\n",
    "for x in [1,2,3]: print(x)\n",
    "\n",
    "\n",
    "print(\"slicing :\", l1[-2])\n",
    "\n",
    "print(\"slicing range: \", l1[1:])\n",
    "\n",
    "print(\"Max of list: \", max([1,2,3,4,5]))\n",
    "\n",
    "print(\"Min of list: \", min([1,2,3,4,5]))\n",
    "\n",
    "print(\"Count number of 1 in list: \", [1,1,2,3,4,5,].count(1))\n",
    "\n",
    "l1.extend(l2)\n",
    "\n",
    "print(\"Extended :\", l1)\n",
    "\n",
    "print(\"Index for Programming:\",l1.index('Programming'))\n",
    "print (l1)\n",
    "print(\"pop last item in list: \", l1.pop())\n",
    "print(\"pop the item with index 2: \", l1.pop(2))\n",
    "l1.remove('b')\n",
    "print(\"removed b from list: \", l1)\n",
    "l1.reverse()\n",
    "print(\"Reverse: \", l1)\n",
    "l1 = ['a','c','b']\n",
    "l1.sort()\n",
    "print(\"Sort ascending: \", l1)\n",
    "l1.sort(reverse = True)\n",
    "print(\"Sort descending: \", l1)"
   ]
  },
  {
   "cell_type": "code",
   "execution_count": 42,
   "metadata": {},
   "outputs": [
    {
     "name": "stdout",
     "output_type": "stream",
     "text": [
      "Empty Tuple:  ()\n",
      "Tuple with single item:  1\n",
      "Sample Tuple : ('a', 'b', 'c', 'd', 1, 2, 3)\n"
     ]
    }
   ],
   "source": [
    "Tuple = ()\n",
    "print(\"Empty Tuple: \", Tuple)\n",
    "Tuple = (1)\n",
    "print(\"Tuple with single item: \", Tuple)\n",
    "Tuple = ('a','b','c','d',1,2,3)\n",
    "print(\"Sample Tuple :\", Tuple)"
   ]
  },
  {
   "cell_type": "code",
   "execution_count": 52,
   "metadata": {},
   "outputs": [
    {
     "name": "stdout",
     "output_type": "stream",
     "text": [
      "3rd item  c\n",
      "First 3 items of Tuple ('a', 'b', 'c')\n"
     ]
    }
   ],
   "source": [
    "Tuple = ('a', 'b', 'c', 'd', 1, 2, 3)\n",
    "print(\"3rd item \", Tuple[2])\n",
    "print(\"First 3 items of Tuple\", Tuple[0:3])"
   ]
  },
  {
   "cell_type": "code",
   "execution_count": null,
   "metadata": {},
   "outputs": [],
   "source": []
  },
  {
   "cell_type": "code",
   "execution_count": 53,
   "metadata": {},
   "outputs": [
    {
     "name": "stdout",
     "output_type": "stream",
     "text": [
      "Sample Tuple:  ('a', 'b', 'c', 'd', 1, 2, 3)\n"
     ]
    }
   ],
   "source": [
    "try:\n",
    "    print(\"Sample Tuple: \", Tuple)\n",
    "    del Tuple\n",
    "except:\n",
    "    print(Tuple)"
   ]
  },
  {
   "cell_type": "code",
   "execution_count": 54,
   "metadata": {},
   "outputs": [
    {
     "name": "stdout",
     "output_type": "stream",
     "text": [
      "Length of Tuple:  7\n",
      "Concatinated Tuple:  ('a', 'b', 'c', 'd', 1, 2, 3, 7, 8, 9)\n",
      "Repetition:  (1, 'a', 2, 'b', 1, 'a', 2, 'b', 1, 'a', 2, 'b')\n",
      "Membership check:  True\n",
      "1\n",
      "2\n",
      "3\n",
      "Negative sign will retrieve item from right:  8\n",
      "Sliced Tuple [2:]  ('c', 'd', 1, 2, 3, 7, 8, 9)\n",
      "Max value(1,2,3,4,5,6,7,8,9,10):  10\n",
      "Min value (1,2,3,4,5,6,7,8,9,10):  1\n",
      "List [1,2,3,4] converted to tuple:  <class 'tuple'>\n"
     ]
    }
   ],
   "source": [
    "Tuple = ('a','b','c','d',1,2,3)\n",
    "print(\"Length of Tuple: \", len(Tuple))\n",
    "\n",
    "Tupleconcat = Tuple + (7,8,9)\n",
    "print(\"Concatinated Tuple: \", Tupleconcat)\n",
    "\n",
    "print(\"Repetition: \", (1,'a',2, 'b') * 3)\n",
    "\n",
    "print(\"Membership check: \", 3 in (1,2,3))\n",
    "\n",
    "for x in (1, 2, 3): print(x)\n",
    "    \n",
    "print(\"Negative sign will retrieve item from right: \", Tupleconcat[-2])\n",
    "\n",
    "print(\"Sliced Tuple [2:] \", Tupleconcat[2:])\n",
    "\n",
    "print(\"Max value(1,2,3,4,5,6,7,8,9,10): \",max((1,2,3,4,5,6,7,8,9,10)))\n",
    "print(\"Min value (1,2,3,4,5,6,7,8,9,10): \",min((1,2,3,4,5,6,7,8,9,10)))\n",
    "print(\"List [1,2,3,4] converted to tuple: \", type(tuple([1,2,3,4])))"
   ]
  },
  {
   "cell_type": "code",
   "execution_count": null,
   "metadata": {},
   "outputs": [],
   "source": []
  },
  {
   "cell_type": "code",
   "execution_count": 56,
   "metadata": {},
   "outputs": [
    {
     "name": "stdout",
     "output_type": "stream",
     "text": [
      "dictionary:  {'Name': 'athul', 'Age': 16, 'Class': 'First'}\n"
     ]
    }
   ],
   "source": [
    "dict = {'Name': 'athul', 'Age': 16, 'Class': 'First'}\n",
    "print(\"dictionary: \", dict)"
   ]
  },
  {
   "cell_type": "code",
   "execution_count": 57,
   "metadata": {},
   "outputs": [
    {
     "name": "stdout",
     "output_type": "stream",
     "text": [
      "Value of key Name, from dictionary: athul\n"
     ]
    }
   ],
   "source": [
    "print(\"Value of key Name, from dictionary:\", dict['Name'])"
   ]
  },
  {
   "cell_type": "code",
   "execution_count": 58,
   "metadata": {},
   "outputs": [
    {
     "name": "stdout",
     "output_type": "stream",
     "text": [
      "dictionary:  {'Name': 'athul', 'Age': 16, 'Class': 'First'}\n",
      "1 Name athul\n",
      "2 Age 16\n",
      "3 Class First\n",
      "Sample dictionary post deletion of item Name: {'Age': 16, 'Class': 'First'}\n",
      "dict post dict.clear(): {}\n"
     ]
    }
   ],
   "source": [
    "dict0 = {'Name': 'athul', 'Age': 16, 'Class': 'First'}\n",
    "print(\"dictionary: \", dict0)\n",
    "k=1\n",
    "for i in dict0:\n",
    "    print(k,i,dict0[i])\n",
    "    k=k+1\n",
    "del (dict0['Name']) # Delete specific item\n",
    "\n",
    "print(\"Sample dictionary post deletion of item Name:\", dict0)\n",
    "\n",
    "dict0 = {'Name': 'Jivin', 'Age': 6, 'Class': 'First'}\n",
    "dict0.clear() # Clear all the contents of dictionary\n",
    "print(\"dict post dict.clear():\", dict0)\n",
    "\n",
    "dict = {'Name': 'athul', 'Age': 16, 'Class': 'First'}\n",
    "del (dict0) # Delete the dictionary"
   ]
  },
  {
   "cell_type": "code",
   "execution_count": 59,
   "metadata": {},
   "outputs": [
    {
     "name": "stdout",
     "output_type": "stream",
     "text": [
      "dictionary:  {'Name': 'athul', 'Age': 16, 'Class': 'First'}\n",
      "updated value {'Name': 'athul', 'Age': 10, 'Class': 'First'}\n"
     ]
    }
   ],
   "source": [
    "dict = {'Name': 'athul', 'Age': 16, 'Class': 'First'}\n",
    "print(\"dictionary: \", dict)\n",
    "dict['Age'] = 10\n",
    "print(\"updated value\", dict)"
   ]
  },
  {
   "cell_type": "code",
   "execution_count": 60,
   "metadata": {},
   "outputs": [
    {
     "name": "stdout",
     "output_type": "stream",
     "text": [
      "Length of dict:  3\n",
      "Copy: {'Name': 'Jivin', 'Age': 6, 'Class': 'First'}\n",
      "Value for Age:  6\n",
      "dict items:  dict_items([('Name', 'Jivin'), ('Age', 6), ('Class', 'First')])\n",
      "dict keys:  dict_keys(['Name', 'Age', 'Class'])\n",
      "Value of dict:  dict_values(['Jivin', 6, 'First'])\n",
      "dict1.update(dict2) =  {'Name': 'athul', 'Age': 16, 'Sex': 'male'}\n"
     ]
    }
   ],
   "source": [
    "dict = {'Name': 'Jivin', 'Age': 6, 'Class': 'First'}\n",
    "print(\"Length of dict: \", len(dict))\n",
    "dcopy = dict.copy()\n",
    "print(\"Copy:\",dcopy)\n",
    "print(\"Value for Age: \", dict.get('Age'))\n",
    "print(\"dict items: \", dict.items())\n",
    "\n",
    "print(\"dict keys: \", dict.keys())\n",
    "\n",
    "print(\"Value of dict: \", dict.values())\n",
    "\n",
    "d1 = {'Name': 'athul', 'Age': 16}\n",
    "d2 = {'Sex': 'male' }\n",
    "d1.update(d2)\n",
    "print(\"dict1.update(dict2) = \", d1)"
   ]
  },
  {
   "cell_type": "code",
   "execution_count": 61,
   "metadata": {},
   "outputs": [
    {
     "name": "stdout",
     "output_type": "stream",
     "text": [
      "Hello World\n"
     ]
    }
   ],
   "source": [
    "def hello():\n",
    "    print(\"Hello World\")\n",
    "\n",
    "\n",
    "hello()"
   ]
  },
  {
   "cell_type": "code",
   "execution_count": 62,
   "metadata": {},
   "outputs": [
    {
     "name": "stdout",
     "output_type": "stream",
     "text": [
      "3\n"
     ]
    }
   ],
   "source": [
    "def add(x, y):\n",
    "        return x + y\n",
    "\n",
    "\n",
    "print(add(1,2))"
   ]
  },
  {
   "cell_type": "code",
   "execution_count": 64,
   "metadata": {},
   "outputs": [
    {
     "name": "stdout",
     "output_type": "stream",
     "text": [
      "50\n"
     ]
    }
   ],
   "source": [
    "x = 40\n",
    "\n",
    "def add(y):\n",
    "    return x + y\n",
    "print(add(10))"
   ]
  },
  {
   "cell_type": "code",
   "execution_count": 65,
   "metadata": {},
   "outputs": [
    {
     "name": "stdout",
     "output_type": "stream",
     "text": [
      "1\n",
      "2\n",
      "3\n"
     ]
    }
   ],
   "source": [
    "\n",
    "def func(*args):\n",
    "    for a in args:\n",
    "        print(a)\n",
    "\n",
    "func(1,2,3)"
   ]
  },
  {
   "cell_type": "code",
   "execution_count": 66,
   "metadata": {},
   "outputs": [
    {
     "name": "stdout",
     "output_type": "stream",
     "text": [
      "name jack\n",
      "age 18\n"
     ]
    }
   ],
   "source": [
    "def func2(**args):\n",
    "    for a in args:\n",
    "        print(a, args[a])\n",
    "func2(name='jack', age=18)"
   ]
  },
  {
   "cell_type": "code",
   "execution_count": 69,
   "metadata": {},
   "outputs": [
    {
     "name": "stdout",
     "output_type": "stream",
     "text": [
      "function method : 162\n",
      "lambda method : 162\n"
     ]
    }
   ],
   "source": [
    "def func(x, y): \n",
    "    return x + y\n",
    "print(\"function method :\",func(83,79))\n",
    "\n",
    "add = lambda x, y : x + y \n",
    "print(\"lambda method :\",add(83,79))"
   ]
  },
  {
   "cell_type": "code",
   "execution_count": null,
   "metadata": {},
   "outputs": [],
   "source": []
  }
 ],
 "metadata": {
  "kernelspec": {
   "display_name": "Python 3",
   "language": "python",
   "name": "python3"
  },
  "language_info": {
   "codemirror_mode": {
    "name": "ipython",
    "version": 3
   },
   "file_extension": ".py",
   "mimetype": "text/x-python",
   "name": "python",
   "nbconvert_exporter": "python",
   "pygments_lexer": "ipython3",
   "version": "3.7.1"
  }
 },
 "nbformat": 4,
 "nbformat_minor": 4
}
